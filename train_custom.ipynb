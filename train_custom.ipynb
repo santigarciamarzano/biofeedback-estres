{
 "cells": [
  {
   "cell_type": "code",
   "execution_count": null,
   "metadata": {},
   "outputs": [],
   "source": [
    "%cd \"/home/minigo/Descargas/Biofeedback_estrés\""
   ]
  },
  {
   "cell_type": "code",
   "execution_count": null,
   "metadata": {},
   "outputs": [],
   "source": [
    "!pip install -r requirements.txt"
   ]
  },
  {
   "cell_type": "markdown",
   "metadata": {},
   "source": [
    "### CREACIÓN DE DATOS SINTÉTICOS\n"
   ]
  },
  {
   "cell_type": "code",
   "execution_count": null,
   "metadata": {},
   "outputs": [],
   "source": [
    "import numpy as np\n",
    "import pandas as pd\n",
    "from data_generator import generate_data, generate_tratamientos\n",
    "\n",
    "\n",
    "df = generate_data()\n",
    "df = generate_tratamientos(df)\n",
    "df.to_csv('datasets/datos_generados.csv', index=False)"
   ]
  },
  {
   "cell_type": "markdown",
   "metadata": {},
   "source": [
    "### INTRODUCCION DE DATOS ERRONEOS Y POSTERIOR LIMPIEZA\n",
    "Esto es para practicar y entender como se podría limpiar en caso de bases de datoso con ruido. Antes de limpiar podria visualizarse para entender graficamente."
   ]
  },
  {
   "cell_type": "code",
   "execution_count": null,
   "metadata": {},
   "outputs": [],
   "source": [
    "from data_errors import introduce_errores, meter_nan, meter_outlier\n",
    "\n",
    "df_con_errores = introduce_errores(df)\n",
    "df_con_errores.to_csv('datasets/datos_con_errores.csv', index=False)\n",
    "print(\"Datos con errores generados y guardados en datos_con_errores.csv\")"
   ]
  },
  {
   "cell_type": "code",
   "execution_count": null,
   "metadata": {},
   "outputs": [],
   "source": [
    "from clean_data import clean_data\n",
    "\n",
    "clean_data('datasets/datos_con_errores.csv')\n",
    "print(\"Datos limpios generados y guardados en datos_limpios.csv\")"
   ]
  },
  {
   "cell_type": "markdown",
   "metadata": {},
   "source": [
    "### VISUALIZACION DE DATOS"
   ]
  },
  {
   "cell_type": "code",
   "execution_count": null,
   "metadata": {},
   "outputs": [],
   "source": [
    "from data_visualization import plot_correlation_matrix, plot_gender_distribution, plot_frequency_histogram, plot_athlete_distribution, plot_scatter_frequencies\n",
    "import pandas as pd\n",
    "\n",
    "df = pd.read_csv('datasets/datos_generados.csv')\n",
    "#df = pd.read_csv('datasets/datos_con_errores.csv')\n",
    "#df = pd.read_csv('datasets/datos_recuperacion_limpio.csv')\n",
    "\n",
    "plot_correlation_matrix(df)\n",
    "plot_gender_distribution(df)\n",
    "plot_frequency_histogram(df)\n",
    "plot_athlete_distribution(df)\n",
    "plot_scatter_frequencies(df)\n",
    "\n"
   ]
  },
  {
   "cell_type": "markdown",
   "metadata": {},
   "source": [
    "### ENTRENAMIENTO DE MODELOS"
   ]
  },
  {
   "cell_type": "code",
   "execution_count": null,
   "metadata": {},
   "outputs": [],
   "source": [
    "from train import train_models\n",
    "\n",
    "models, test_data = train_models()"
   ]
  },
  {
   "cell_type": "markdown",
   "metadata": {},
   "source": [
    "### PREDICCION DE TIEMPO RECUPERACION CONDUCTANCIA"
   ]
  },
  {
   "cell_type": "code",
   "execution_count": null,
   "metadata": {},
   "outputs": [],
   "source": [
    "from predict import predict\n",
    "import pickle\n",
    "\n",
    "# Definir un ejemplo de nueva persona para predicción\n",
    "nueva_persona = {\n",
    "    'frecuencia_cardiaca_inicial': 60,\n",
    "    'conductancia_inicial': 80,\n",
    "    'frecuencia_cardiaca_maxima': 75,\n",
    "    'fumador': 0,  # 0 para No, 1 para Sí\n",
    "    'conductancia_maxima': 90,\n",
    "    'deportista': 1,  # 0 para No, 1 para Sí\n",
    "    'sexo': 0,  # 0 para Hombre, 1 para Mujer\n",
    "    'tiempo_hasta_conductancia_max': 150  # Tiempo hasta conductancia máxima\n",
    "}\n",
    "\n",
    "# Cargar los modelos y las columnas desde los archivos pickle\n",
    "with open('models/dtc_model.pkl', 'rb') as file:\n",
    "    dtc = pickle.load(file)\n",
    "\n",
    "with open('models/knn_model.pkl', 'rb') as file:\n",
    "    knn = pickle.load(file)\n",
    "\n",
    "with open('models/regression_model.pkl', 'rb') as file:\n",
    "    regression = pickle.load(file)\n",
    "\n",
    "with open('models/classification_columns.pkl', 'rb') as file:\n",
    "    classification_columns = pickle.load(file)\n",
    "\n",
    "with open('models/regression_columns.pkl', 'rb') as file:\n",
    "    regression_columns = pickle.load(file)\n",
    "\n",
    "models = {\n",
    "    'dtc': dtc,\n",
    "    'knn': knn,\n",
    "    'regression': regression\n",
    "}\n",
    "\n",
    "# Realizar predicción\n",
    "predict(models, classification_columns, regression_columns, nueva_persona)"
   ]
  }
 ],
 "metadata": {
  "kernelspec": {
   "display_name": "Python 3",
   "language": "python",
   "name": "python3"
  },
  "language_info": {
   "codemirror_mode": {
    "name": "ipython",
    "version": 3
   },
   "file_extension": ".py",
   "mimetype": "text/x-python",
   "name": "python",
   "nbconvert_exporter": "python",
   "pygments_lexer": "ipython3",
   "version": "3.10.14"
  }
 },
 "nbformat": 4,
 "nbformat_minor": 2
}
